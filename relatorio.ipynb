{
 "cells": [
  {
   "cell_type": "markdown",
   "metadata": {},
   "source": [
    "## Introdução"
   ]
  },
  {
   "cell_type": "markdown",
   "metadata": {},
   "source": [
    "A partir dos dados do ENEM disponibilizados pelo INEP, buscaremos analisar questões envolvendo as notas dos candidatos. Em particular, tentamos responder três perguntas propostas:\n",
    "\n",
    "- p1\n",
    "- p2\n",
    "- p3\n",
    "\n",
    "A motivação ocorreu a partir do interesse do grupo de aplicar a ciência dos dados a uma questão social, nesse caso a educação. Diante de diversas discussões que têm ocorrido acerca da educação no país, escolhemos utilizar a base de dados do ENEM por ser um exame que avalia o aluno ao término de sua formação escolar e por trazer diversos dados sobre o participante. "
   ]
  },
  {
   "cell_type": "code",
   "execution_count": null,
   "metadata": {},
   "outputs": [],
   "source": []
  }
 ],
 "metadata": {
  "kernelspec": {
   "display_name": "Python 3",
   "language": "python",
   "name": "python3"
  },
  "language_info": {
   "codemirror_mode": {
    "name": "ipython",
    "version": 3
   },
   "file_extension": ".py",
   "mimetype": "text/x-python",
   "name": "python",
   "nbconvert_exporter": "python",
   "pygments_lexer": "ipython3",
   "version": "3.7.4"
  }
 },
 "nbformat": 4,
 "nbformat_minor": 2
}
