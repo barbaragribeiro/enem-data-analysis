{
 "cells": [
  {
   "cell_type": "markdown",
   "metadata": {},
   "source": [
    "## 1. Introdução"
   ]
  },
  {
   "cell_type": "markdown",
   "metadata": {},
   "source": [
    "A partir dos dados do ENEM disponibilizados pelo INEP, buscaremos analisar questões envolvendo as notas dos candidatos. Em particular, tentamos responder três perguntas propostas:\n",
    "\n",
    "- p1\n",
    "- p2\n",
    "- p3\n",
    "\n",
    "A motivação ocorreu a partir do interesse do grupo de aplicar a ciência dos dados a uma questão social, nesse caso a educação. Diante de diversas discussões que têm ocorrido acerca da educação no país, escolhemos utilizar a base de dados do ENEM por ser um exame que avalia o aluno ao término de sua formação escolar e por trazer diversos dados sobre o participante. "
   ]
  },
  {
   "cell_type": "markdown",
   "metadata": {},
   "source": [
    "## 2. As bases de dados"
   ]
  },
  {
   "cell_type": "markdown",
   "metadata": {},
   "source": [
    "A base de dados utilizada para as análises é fornecida pelo governo brasileiro no site http://portal.inep.gov.br/microdados e tem os dados anuais das aplicações do ENEM - Exame Nacional do Ensino Médio. Uma de suas principais características é a totalidade dos dados das aplicações anuais, ou seja, durante as análises, foram considerados todos os estudantes inscritos para o exame, o que confere aos arquivos uma soma de quase 10GB de dados.\n",
    "\n",
    "Além disso, a base conta com uma grande gama de indicadores socioeconômicos dos inscritos, obtidos com base num questionário respondido pela internet por cada um, o que possibilitou análises interessantes a respeito da correlação entre esses dados e a nota obtida. Dentre os dados utilizados pelo grupo, destacam-se a renda da família, a raça/etnia, o tipo de escola em que estudou durante o ensino médio e o estado de residência. Maiores informações a respeito das possíveis respostas ou de outros indicadores podem ser encontrados num arquivo chamado “dicionário”, presente na base compactada pelo Estado.\n",
    "\n",
    "Para a análise sobre as notas da redação de 2018, utilizamos também as bases de dados de 2015, 2016 e 2017."
   ]
  },
  {
   "cell_type": "markdown",
   "metadata": {},
   "source": [
    "### Metodologia"
   ]
  },
  {
   "cell_type": "markdown",
   "metadata": {},
   "source": [
    "Para a análise, utilizamos, além das informações sobre a nota do candidato, os seus dados socioeconômicos. Selecionamos, a partir do dicionário que é disponibilizado pelo INEP junto com a base de dados, aqueles atributos socioeconômicos que são relevantes no nosso contexto, eliminando as informações que não contribuem muito e/ou que são muito redundantes com outras (por exemplo, quantas máquinas de lavar tem na casa do candidato).\n",
    "\n",
    "Para fazer a análise da redação, buscando responder a primeira pergunta, rodamos usando a base completa. Entretanto, como tivemos problemas para fazer as outras análises devido à quantidade de dados, utilizamos uma amostra de tamanho 5500.\n",
    "\n",
    "A metodologia utilizada em cada parte será detalhada mais a frente, junto dos resultados."
   ]
  },
  {
   "cell_type": "markdown",
   "metadata": {},
   "source": [
    "## 3. Análise exploratória"
   ]
  },
  {
   "cell_type": "markdown",
   "metadata": {},
   "source": [
    "#### Notas da redação de 2018 e 2015, 2016, 2017"
   ]
  },
  {
   "cell_type": "markdown",
   "metadata": {},
   "source": [
    "<img src=\"images/red.png\">"
   ]
  },
  {
   "cell_type": "markdown",
   "metadata": {},
   "source": [
    "Como pode ser observado, as notas em 2015 tiveram uma quantidade muito grande de redações zeradas. Essas notas 0 atrapalham a análise porque, além dos critérios que levam ao 0 terem mudado em 2018 e alguns poderem ser afetados por fatores externos (como quantidade de ausências no exame), em 2015 as ausências também eram contabilizadas como 0, mas nos anos subsequentes entraram como NaN. Assim, retiramos, além dos nulos, as notas 0 da análise."
   ]
  },
  {
   "cell_type": "markdown",
   "metadata": {},
   "source": [
    "<img src=\"images/red2.png\">"
   ]
  },
  {
   "cell_type": "markdown",
   "metadata": {},
   "source": [
    "Apenas com a visualização acima, já conseguimos perceber que a ditribuição das notas de 2018 foi bimodal, ao contrário dos outros anos. Paralelamente, é possível notar um aumento no número de notas muito altas e de notas muito baixas."
   ]
  },
  {
   "cell_type": "markdown",
   "metadata": {},
   "source": [
    "#### Como fatores socioeconômicos afetam as notas?"
   ]
  },
  {
   "cell_type": "markdown",
   "metadata": {},
   "source": [
    "<img src=\"images/dp.png\">"
   ]
  },
  {
   "cell_type": "markdown",
   "metadata": {},
   "source": [
    "<img src=\"images/sexo.png\">"
   ]
  },
  {
   "cell_type": "markdown",
   "metadata": {},
   "source": [
    "<img src=\"images/net.png\">"
   ]
  },
  {
   "cell_type": "markdown",
   "metadata": {},
   "source": [
    "<img src=\"images/renda2.png\">"
   ]
  },
  {
   "cell_type": "markdown",
   "metadata": {},
   "source": [
    "<img src=\"images/renda.png\">"
   ]
  },
  {
   "cell_type": "markdown",
   "metadata": {},
   "source": [
    "<img src=\"images/etnia.png\">"
   ]
  },
  {
   "cell_type": "markdown",
   "metadata": {},
   "source": [
    "<img src=\"images/pai.png\">"
   ]
  },
  {
   "cell_type": "markdown",
   "metadata": {},
   "source": [
    "<img src=\"images/mae.png\">"
   ]
  },
  {
   "cell_type": "markdown",
   "metadata": {},
   "source": [
    "<img src=\"images/uf.png\">"
   ]
  },
  {
   "cell_type": "markdown",
   "metadata": {},
   "source": [
    "### 4. Resultados"
   ]
  },
  {
   "cell_type": "markdown",
   "metadata": {},
   "source": [
    "#### 4.1 Teste de hipótese - Redação"
   ]
  },
  {
   "cell_type": "markdown",
   "metadata": {},
   "source": [
    "ara responder a primeira pergunta, primeiramente, concatenamos todos os dataframes em um só para realizar um teste de permutação. Permutando as notas e guardando a diferença da estatística em análise (média e desvio padrão) entre o que corresponderia a 2018 e antes, conseguimos simular diferenças ocorridas devido ao caso. Aqui, a hipótese nula é que a diferença entre as notas de 2018 e os demais anos é aleatória. Para isso, analisamos, além da média, o desvio padrão, o que permite entender o quanto as notas foram diferentes entre si."
   ]
  },
  {
   "cell_type": "markdown",
   "metadata": {},
   "source": [
    "<img src=\"images/th1.png\">"
   ]
  },
  {
   "cell_type": "markdown",
   "metadata": {},
   "source": [
    "<img src=\"images/th2.png\">"
   ]
  },
  {
   "cell_type": "markdown",
   "metadata": {},
   "source": [
    "Como se pode ver, nos dois casos rejeitamos fortemente a hipótese nula, indicando que a diferença nas notas de redação de 2018 para os anos anteriores observados não pode ser estatisticamente considerada aleatória, sendo este um indício de que o tema da redação de fato segregou os alunos."
   ]
  },
  {
   "cell_type": "markdown",
   "metadata": {},
   "source": [
    "#### 4.2 Regressão - Dados socioeconômicos e nota do candidato"
   ]
  },
  {
   "cell_type": "markdown",
   "metadata": {},
   "source": [
    "Tentamos fazer uma regressão na nota do candidato a partir dos atributos socioeconômicos disponíveis. Para isso, utilizamos uma regressão linear regularizada, visto que alguns atributos não teriam tanta contribuição para a nota e precisaríamos penalizar isso. Depois, utilizamos também Random Forests Regression para comparar os resultados. Obtivemos os seguites resultados:"
   ]
  },
  {
   "cell_type": "markdown",
   "metadata": {},
   "source": [
    "Previsão com conjunto de teste - Regressão linear regularizada\n",
    "\n",
    "Variance score: 0.37\n",
    "\n",
    "MSE score: 5021.64\n",
    "\n",
    "    \n",
    "Previsão com conjunto de teste - Random Forest\n",
    "\n",
    "Variance score: 0.31\n",
    "\n",
    "MSE score: 5490.90"
   ]
  },
  {
   "cell_type": "markdown",
   "metadata": {},
   "source": [
    "<img src=\"images/z1.png\">"
   ]
  },
  {
   "cell_type": "markdown",
   "metadata": {},
   "source": [
    "<img src=\"images/z2.png\">"
   ]
  },
  {
   "cell_type": "markdown",
   "metadata": {},
   "source": [
    "Previsão com conjunto de treino - Regressão linear regularizada\n",
    "\n",
    "Variance score: 0.39\n",
    "\n",
    "\n",
    "Previsão com conjunto de treino - Random Forest\n",
    "\n",
    "Variance score: 0.90\n",
    "\n",
    "\n",
    "Como se pode ver no plot acima, o modelo de regressão ficou tendencioso para notas distantes da média. Além disso, o r² ruim para o próprio conjunto de treino na regressão linear regularizada evidencia que a regressão linear parece não se adequar para os dados, de forma que a relação entre os atributos socioeconômicos e a nota não é linear. Além disso, como a maioria dos atributos é categórica (exceto idade e faixa de renda), uma regressão polinomial não se adequa."
   ]
  },
  {
   "cell_type": "markdown",
   "metadata": {},
   "source": [
    "#### 4.3 Classificação - Dados socioeconômicos e nota do candidato"
   ]
  },
  {
   "cell_type": "markdown",
   "metadata": {},
   "source": [
    "Diante do problema que foi exposto acima, vamos classificar as notas em três categorias, baixa, média e alta, a partir dos atributos socioeconômicos. Como temos muitas dimensões e apenas 3 classes, optamos por não utilizar o KNN (visto que é baseado em distância euclidiana), e sim uma regressão logística. Para fundamentar essa decisão, fizemos alguns testes que sustentaram o fato de que o KNN teria resultados piores.\n",
    "\n",
    "Como percebemos que não seria minimamente viável rodar para a base toda, utilizamos uma amostra e, com bootstrap, estimamos um intervalo de confiança para a acuácia e o f1 da regressão logística.\n"
   ]
  },
  {
   "cell_type": "markdown",
   "metadata": {},
   "source": []
  },
  {
   "cell_type": "markdown",
   "metadata": {},
   "source": [
    "Como podemos observar, temos uma acurácia e um f1 razoáveis para três classes, indicando que a partir das informações socioeconômicas do indivíduo é possível fazer certa previsão do seu nível de nota e, assim, vemos que sua condição têm uma interferência mais que desejada na nota."
   ]
  }
 ],
 "metadata": {
  "kernelspec": {
   "display_name": "Python 3",
   "language": "python",
   "name": "python3"
  },
  "language_info": {
   "codemirror_mode": {
    "name": "ipython",
    "version": 3
   },
   "file_extension": ".py",
   "mimetype": "text/x-python",
   "name": "python",
   "nbconvert_exporter": "python",
   "pygments_lexer": "ipython3",
   "version": "3.7.1"
  }
 },
 "nbformat": 4,
 "nbformat_minor": 2
}
